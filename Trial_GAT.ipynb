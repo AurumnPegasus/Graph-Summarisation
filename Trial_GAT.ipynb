{
  "nbformat": 4,
  "nbformat_minor": 0,
  "metadata": {
    "colab": {
      "name": "Trial_GAT.ipynb",
      "provenance": [],
      "collapsed_sections": []
    },
    "kernelspec": {
      "name": "python3",
      "display_name": "Python 3"
    },
    "language_info": {
      "name": "python"
    },
    "widgets": {
      "application/vnd.jupyter.widget-state+json": {
        "834cdcac79894a7f82361f80830e8208": {
          "model_module": "@jupyter-widgets/controls",
          "model_name": "HBoxModel",
          "model_module_version": "1.5.0",
          "state": {
            "_dom_classes": [],
            "_model_module": "@jupyter-widgets/controls",
            "_model_module_version": "1.5.0",
            "_model_name": "HBoxModel",
            "_view_count": null,
            "_view_module": "@jupyter-widgets/controls",
            "_view_module_version": "1.5.0",
            "_view_name": "HBoxView",
            "box_style": "",
            "children": [
              "IPY_MODEL_3f5c480164984f4c8f0169a37a1308d4",
              "IPY_MODEL_06c0532d8a8f47cfbf1a154a773c09c7",
              "IPY_MODEL_752bccc489b74901bb49dae96f612dd9"
            ],
            "layout": "IPY_MODEL_ef003310f65c4ca38f1a28f889a7e5ea"
          }
        },
        "3f5c480164984f4c8f0169a37a1308d4": {
          "model_module": "@jupyter-widgets/controls",
          "model_name": "HTMLModel",
          "model_module_version": "1.5.0",
          "state": {
            "_dom_classes": [],
            "_model_module": "@jupyter-widgets/controls",
            "_model_module_version": "1.5.0",
            "_model_name": "HTMLModel",
            "_view_count": null,
            "_view_module": "@jupyter-widgets/controls",
            "_view_module_version": "1.5.0",
            "_view_name": "HTMLView",
            "description": "",
            "description_tooltip": null,
            "layout": "IPY_MODEL_25ba2c74c3884103854db2825d0c6d6c",
            "placeholder": "​",
            "style": "IPY_MODEL_fafb7e3e736b42aa8f6586a9374838e0",
            "value": "100%"
          }
        },
        "06c0532d8a8f47cfbf1a154a773c09c7": {
          "model_module": "@jupyter-widgets/controls",
          "model_name": "FloatProgressModel",
          "model_module_version": "1.5.0",
          "state": {
            "_dom_classes": [],
            "_model_module": "@jupyter-widgets/controls",
            "_model_module_version": "1.5.0",
            "_model_name": "FloatProgressModel",
            "_view_count": null,
            "_view_module": "@jupyter-widgets/controls",
            "_view_module_version": "1.5.0",
            "_view_name": "ProgressView",
            "bar_style": "success",
            "description": "",
            "description_tooltip": null,
            "layout": "IPY_MODEL_7341445bd7ba45c082fc2f453b6a2a01",
            "max": 200,
            "min": 0,
            "orientation": "horizontal",
            "style": "IPY_MODEL_5b0ceda0f4c44f9ebc0cb180f7aa2bee",
            "value": 200
          }
        },
        "752bccc489b74901bb49dae96f612dd9": {
          "model_module": "@jupyter-widgets/controls",
          "model_name": "HTMLModel",
          "model_module_version": "1.5.0",
          "state": {
            "_dom_classes": [],
            "_model_module": "@jupyter-widgets/controls",
            "_model_module_version": "1.5.0",
            "_model_name": "HTMLModel",
            "_view_count": null,
            "_view_module": "@jupyter-widgets/controls",
            "_view_module_version": "1.5.0",
            "_view_name": "HTMLView",
            "description": "",
            "description_tooltip": null,
            "layout": "IPY_MODEL_c4eb5720ce1347b9b5e46bc95f1f9dc7",
            "placeholder": "​",
            "style": "IPY_MODEL_7066c7d0aca44aa28912b2a197a99b40",
            "value": " 200/200 [07:49&lt;00:00,  2.32s/it]"
          }
        },
        "ef003310f65c4ca38f1a28f889a7e5ea": {
          "model_module": "@jupyter-widgets/base",
          "model_name": "LayoutModel",
          "model_module_version": "1.2.0",
          "state": {
            "_model_module": "@jupyter-widgets/base",
            "_model_module_version": "1.2.0",
            "_model_name": "LayoutModel",
            "_view_count": null,
            "_view_module": "@jupyter-widgets/base",
            "_view_module_version": "1.2.0",
            "_view_name": "LayoutView",
            "align_content": null,
            "align_items": null,
            "align_self": null,
            "border": null,
            "bottom": null,
            "display": null,
            "flex": null,
            "flex_flow": null,
            "grid_area": null,
            "grid_auto_columns": null,
            "grid_auto_flow": null,
            "grid_auto_rows": null,
            "grid_column": null,
            "grid_gap": null,
            "grid_row": null,
            "grid_template_areas": null,
            "grid_template_columns": null,
            "grid_template_rows": null,
            "height": null,
            "justify_content": null,
            "justify_items": null,
            "left": null,
            "margin": null,
            "max_height": null,
            "max_width": null,
            "min_height": null,
            "min_width": null,
            "object_fit": null,
            "object_position": null,
            "order": null,
            "overflow": null,
            "overflow_x": null,
            "overflow_y": null,
            "padding": null,
            "right": null,
            "top": null,
            "visibility": null,
            "width": null
          }
        },
        "25ba2c74c3884103854db2825d0c6d6c": {
          "model_module": "@jupyter-widgets/base",
          "model_name": "LayoutModel",
          "model_module_version": "1.2.0",
          "state": {
            "_model_module": "@jupyter-widgets/base",
            "_model_module_version": "1.2.0",
            "_model_name": "LayoutModel",
            "_view_count": null,
            "_view_module": "@jupyter-widgets/base",
            "_view_module_version": "1.2.0",
            "_view_name": "LayoutView",
            "align_content": null,
            "align_items": null,
            "align_self": null,
            "border": null,
            "bottom": null,
            "display": null,
            "flex": null,
            "flex_flow": null,
            "grid_area": null,
            "grid_auto_columns": null,
            "grid_auto_flow": null,
            "grid_auto_rows": null,
            "grid_column": null,
            "grid_gap": null,
            "grid_row": null,
            "grid_template_areas": null,
            "grid_template_columns": null,
            "grid_template_rows": null,
            "height": null,
            "justify_content": null,
            "justify_items": null,
            "left": null,
            "margin": null,
            "max_height": null,
            "max_width": null,
            "min_height": null,
            "min_width": null,
            "object_fit": null,
            "object_position": null,
            "order": null,
            "overflow": null,
            "overflow_x": null,
            "overflow_y": null,
            "padding": null,
            "right": null,
            "top": null,
            "visibility": null,
            "width": null
          }
        },
        "fafb7e3e736b42aa8f6586a9374838e0": {
          "model_module": "@jupyter-widgets/controls",
          "model_name": "DescriptionStyleModel",
          "model_module_version": "1.5.0",
          "state": {
            "_model_module": "@jupyter-widgets/controls",
            "_model_module_version": "1.5.0",
            "_model_name": "DescriptionStyleModel",
            "_view_count": null,
            "_view_module": "@jupyter-widgets/base",
            "_view_module_version": "1.2.0",
            "_view_name": "StyleView",
            "description_width": ""
          }
        },
        "7341445bd7ba45c082fc2f453b6a2a01": {
          "model_module": "@jupyter-widgets/base",
          "model_name": "LayoutModel",
          "model_module_version": "1.2.0",
          "state": {
            "_model_module": "@jupyter-widgets/base",
            "_model_module_version": "1.2.0",
            "_model_name": "LayoutModel",
            "_view_count": null,
            "_view_module": "@jupyter-widgets/base",
            "_view_module_version": "1.2.0",
            "_view_name": "LayoutView",
            "align_content": null,
            "align_items": null,
            "align_self": null,
            "border": null,
            "bottom": null,
            "display": null,
            "flex": null,
            "flex_flow": null,
            "grid_area": null,
            "grid_auto_columns": null,
            "grid_auto_flow": null,
            "grid_auto_rows": null,
            "grid_column": null,
            "grid_gap": null,
            "grid_row": null,
            "grid_template_areas": null,
            "grid_template_columns": null,
            "grid_template_rows": null,
            "height": null,
            "justify_content": null,
            "justify_items": null,
            "left": null,
            "margin": null,
            "max_height": null,
            "max_width": null,
            "min_height": null,
            "min_width": null,
            "object_fit": null,
            "object_position": null,
            "order": null,
            "overflow": null,
            "overflow_x": null,
            "overflow_y": null,
            "padding": null,
            "right": null,
            "top": null,
            "visibility": null,
            "width": null
          }
        },
        "5b0ceda0f4c44f9ebc0cb180f7aa2bee": {
          "model_module": "@jupyter-widgets/controls",
          "model_name": "ProgressStyleModel",
          "model_module_version": "1.5.0",
          "state": {
            "_model_module": "@jupyter-widgets/controls",
            "_model_module_version": "1.5.0",
            "_model_name": "ProgressStyleModel",
            "_view_count": null,
            "_view_module": "@jupyter-widgets/base",
            "_view_module_version": "1.2.0",
            "_view_name": "StyleView",
            "bar_color": null,
            "description_width": ""
          }
        },
        "c4eb5720ce1347b9b5e46bc95f1f9dc7": {
          "model_module": "@jupyter-widgets/base",
          "model_name": "LayoutModel",
          "model_module_version": "1.2.0",
          "state": {
            "_model_module": "@jupyter-widgets/base",
            "_model_module_version": "1.2.0",
            "_model_name": "LayoutModel",
            "_view_count": null,
            "_view_module": "@jupyter-widgets/base",
            "_view_module_version": "1.2.0",
            "_view_name": "LayoutView",
            "align_content": null,
            "align_items": null,
            "align_self": null,
            "border": null,
            "bottom": null,
            "display": null,
            "flex": null,
            "flex_flow": null,
            "grid_area": null,
            "grid_auto_columns": null,
            "grid_auto_flow": null,
            "grid_auto_rows": null,
            "grid_column": null,
            "grid_gap": null,
            "grid_row": null,
            "grid_template_areas": null,
            "grid_template_columns": null,
            "grid_template_rows": null,
            "height": null,
            "justify_content": null,
            "justify_items": null,
            "left": null,
            "margin": null,
            "max_height": null,
            "max_width": null,
            "min_height": null,
            "min_width": null,
            "object_fit": null,
            "object_position": null,
            "order": null,
            "overflow": null,
            "overflow_x": null,
            "overflow_y": null,
            "padding": null,
            "right": null,
            "top": null,
            "visibility": null,
            "width": null
          }
        },
        "7066c7d0aca44aa28912b2a197a99b40": {
          "model_module": "@jupyter-widgets/controls",
          "model_name": "DescriptionStyleModel",
          "model_module_version": "1.5.0",
          "state": {
            "_model_module": "@jupyter-widgets/controls",
            "_model_module_version": "1.5.0",
            "_model_name": "DescriptionStyleModel",
            "_view_count": null,
            "_view_module": "@jupyter-widgets/base",
            "_view_module_version": "1.2.0",
            "_view_name": "StyleView",
            "description_width": ""
          }
        }
      }
    }
  },
  "cells": [
    {
      "cell_type": "code",
      "execution_count": 2,
      "metadata": {
        "colab": {
          "base_uri": "https://localhost:8080/"
        },
        "id": "daAaWoxfurGE",
        "outputId": "217ac920-068c-441d-8de6-f66ed80787e1"
      },
      "outputs": [
        {
          "output_type": "stream",
          "name": "stdout",
          "text": [
            "--2022-03-13 05:27:13--  https://web.archive.org/web/20150918182409/http://www.cs.umd.edu/~sen/lbc-proj/data/cora.tgz\n",
            "Resolving web.archive.org (web.archive.org)... 207.241.237.3\n",
            "Connecting to web.archive.org (web.archive.org)|207.241.237.3|:443... connected.\n",
            "HTTP request sent, awaiting response... 200 OK\n",
            "Length: 167063 (163K) [application/x-gzip]\n",
            "Saving to: ‘cora.tgz.1’\n",
            "\n",
            "cora.tgz.1          100%[===================>] 163.15K  1.04MB/s    in 0.2s    \n",
            "\n",
            "2022-03-13 05:27:13 (1.04 MB/s) - ‘cora.tgz.1’ saved [167063/167063]\n",
            "\n",
            "cora/\n",
            "cora/README\n",
            "cora/cora.content\n",
            "cora/cora.cites\n",
            "Looking in links: https://data.pyg.org/whl/torch-1.10.0+cpu.html\n",
            "Requirement already satisfied: torch-scatter in /usr/local/lib/python3.7/dist-packages (2.0.9)\n",
            "Looking in links: https://data.pyg.org/whl/torch-1.10.0+cpu.html\n",
            "Requirement already satisfied: torch-sparse in /usr/local/lib/python3.7/dist-packages (0.6.13)\n",
            "Requirement already satisfied: scipy in /usr/local/lib/python3.7/dist-packages (from torch-sparse) (1.4.1)\n",
            "Requirement already satisfied: numpy>=1.13.3 in /usr/local/lib/python3.7/dist-packages (from scipy->torch-sparse) (1.21.5)\n",
            "Requirement already satisfied: torch-geometric in /usr/local/lib/python3.7/dist-packages (2.0.4)\n",
            "Requirement already satisfied: scipy in /usr/local/lib/python3.7/dist-packages (from torch-geometric) (1.4.1)\n",
            "Requirement already satisfied: pyparsing in /usr/local/lib/python3.7/dist-packages (from torch-geometric) (3.0.7)\n",
            "Requirement already satisfied: pandas in /usr/local/lib/python3.7/dist-packages (from torch-geometric) (1.3.5)\n",
            "Requirement already satisfied: jinja2 in /usr/local/lib/python3.7/dist-packages (from torch-geometric) (2.11.3)\n",
            "Requirement already satisfied: requests in /usr/local/lib/python3.7/dist-packages (from torch-geometric) (2.23.0)\n",
            "Requirement already satisfied: numpy in /usr/local/lib/python3.7/dist-packages (from torch-geometric) (1.21.5)\n",
            "Requirement already satisfied: tqdm in /usr/local/lib/python3.7/dist-packages (from torch-geometric) (4.63.0)\n",
            "Requirement already satisfied: scikit-learn in /usr/local/lib/python3.7/dist-packages (from torch-geometric) (1.0.2)\n",
            "Requirement already satisfied: MarkupSafe>=0.23 in /usr/local/lib/python3.7/dist-packages (from jinja2->torch-geometric) (2.0.1)\n",
            "Requirement already satisfied: pytz>=2017.3 in /usr/local/lib/python3.7/dist-packages (from pandas->torch-geometric) (2018.9)\n",
            "Requirement already satisfied: python-dateutil>=2.7.3 in /usr/local/lib/python3.7/dist-packages (from pandas->torch-geometric) (2.8.2)\n",
            "Requirement already satisfied: six>=1.5 in /usr/local/lib/python3.7/dist-packages (from python-dateutil>=2.7.3->pandas->torch-geometric) (1.15.0)\n",
            "Requirement already satisfied: urllib3!=1.25.0,!=1.25.1,<1.26,>=1.21.1 in /usr/local/lib/python3.7/dist-packages (from requests->torch-geometric) (1.24.3)\n",
            "Requirement already satisfied: idna<3,>=2.5 in /usr/local/lib/python3.7/dist-packages (from requests->torch-geometric) (2.10)\n",
            "Requirement already satisfied: chardet<4,>=3.0.2 in /usr/local/lib/python3.7/dist-packages (from requests->torch-geometric) (3.0.4)\n",
            "Requirement already satisfied: certifi>=2017.4.17 in /usr/local/lib/python3.7/dist-packages (from requests->torch-geometric) (2021.10.8)\n",
            "Requirement already satisfied: threadpoolctl>=2.0.0 in /usr/local/lib/python3.7/dist-packages (from scikit-learn->torch-geometric) (3.1.0)\n",
            "Requirement already satisfied: joblib>=0.11 in /usr/local/lib/python3.7/dist-packages (from scikit-learn->torch-geometric) (1.1.0)\n",
            "Requirement already satisfied: networkx in /usr/local/lib/python3.7/dist-packages (2.6.3)\n",
            "Requirement already satisfied: icecream in /usr/local/lib/python3.7/dist-packages (2.1.2)\n",
            "Requirement already satisfied: colorama>=0.3.9 in /usr/local/lib/python3.7/dist-packages (from icecream) (0.4.4)\n",
            "Requirement already satisfied: executing>=0.3.1 in /usr/local/lib/python3.7/dist-packages (from icecream) (0.8.3)\n",
            "Requirement already satisfied: asttokens>=2.0.1 in /usr/local/lib/python3.7/dist-packages (from icecream) (2.0.5)\n",
            "Requirement already satisfied: pygments>=2.2.0 in /usr/local/lib/python3.7/dist-packages (from icecream) (2.6.1)\n",
            "Requirement already satisfied: six in /usr/local/lib/python3.7/dist-packages (from asttokens>=2.0.1->icecream) (1.15.0)\n",
            "Requirement already satisfied: tqdm in /usr/local/lib/python3.7/dist-packages (4.63.0)\n"
          ]
        },
        {
          "output_type": "execute_result",
          "data": {
            "text/plain": [
              ""
            ]
          },
          "metadata": {},
          "execution_count": 2
        }
      ],
      "source": [
        "%%shell\n",
        "\n",
        "wget \"https://web.archive.org/web/20150918182409/http://www.cs.umd.edu/~sen/lbc-proj/data/cora.tgz\"\n",
        "tar -xzvf cora.tgz\n",
        "\n",
        "pip install torch-scatter -f https://data.pyg.org/whl/torch-1.10.0+cpu.html\n",
        "pip install torch-sparse -f https://data.pyg.org/whl/torch-1.10.0+cpu.html\n",
        "pip install torch-geometric\n",
        "\n",
        "pip install networkx\n",
        "\n",
        "pip install icecream\n",
        "pip install tqdm"
      ]
    },
    {
      "cell_type": "code",
      "source": [
        "import numpy as np\n",
        "import pandas as pd\n",
        "import random\n",
        "from collections import Counter\n",
        "from icecream import ic\n",
        "\n",
        "import torch\n",
        "import torch.nn as nn\n",
        "import torch.nn.functional as F\n",
        "import torch.optim as optim\n",
        "import torch_geometric\n",
        "\n",
        "import networkx as nx\n",
        "import scipy\n",
        "\n",
        "from sklearn.model_selection import train_test_split\n",
        "from sklearn.preprocessing import LabelEncoder\n",
        "from sklearn.preprocessing import normalize\n",
        "\n",
        "from tqdm.notebook import tqdm\n",
        "\n",
        "import matplotlib.pyplot as plt\n",
        "\n",
        "print(\"Torch version:\", torch.__version__)\n",
        "print(\"CUDA Present:\", torch.cuda.is_available())\n",
        "print(\"CUDA Version:\", torch.version.cuda)"
      ],
      "metadata": {
        "colab": {
          "base_uri": "https://localhost:8080/"
        },
        "id": "5p0ab89vux6N",
        "outputId": "c7a78eaf-cdc3-4427-d1e5-7e584b938118"
      },
      "execution_count": 14,
      "outputs": [
        {
          "output_type": "stream",
          "name": "stdout",
          "text": [
            "Torch version: 1.10.0+cu111\n",
            "CUDA Present: False\n",
            "CUDA Version: 11.1\n"
          ]
        }
      ]
    },
    {
      "cell_type": "code",
      "source": [
        "CONFIG = {\n",
        "    'PATH': './cora',\n",
        "    'LIMIT': 250,\n",
        "    'HIDDEN_CHANNELS': 1024,\n",
        "    'NUM_LAYERS': 2,\n",
        "    'DROPOUT_RATE': 0,\n",
        "    'EPOCHS': 200\n",
        "}\n",
        "\n",
        "print(\"Here's the configuration: \")\n",
        "for k, v in CONFIG.items():\n",
        "    print(f\"{k} = {v}\")"
      ],
      "metadata": {
        "colab": {
          "base_uri": "https://localhost:8080/"
        },
        "id": "7f8g2qitwBYX",
        "outputId": "8100f049-f9d9-4307-d778-874a67b3c8fe"
      },
      "execution_count": 5,
      "outputs": [
        {
          "output_type": "stream",
          "name": "stdout",
          "text": [
            "Here's the configuration: \n",
            "PATH = ./cora\n",
            "LIMIT = 250\n",
            "HIDDEN_CHANNELS = 1024\n",
            "NUM_LAYERS = 2\n",
            "DROPOUT_RATE = 0\n",
            "EPOCHS = 200\n"
          ]
        }
      ]
    },
    {
      "cell_type": "code",
      "source": [
        "class Data:\n",
        "    def __init__(self, path):\n",
        "        self.path = path\n",
        "    \n",
        "    def readFile(self, path):\n",
        "        lines = []\n",
        "        with open(path) as file:\n",
        "            lines = file.readlines()\n",
        "        return lines\n",
        "\n",
        "    def readContent(self, data):\n",
        "        nodes, labels, x = [], [], []\n",
        "        for d in data:\n",
        "            words = d.split(\"\\t\")\n",
        "            nodes.append(words[0].strip())\n",
        "            labels.append(words[-1].strip())\n",
        "            x.append([ord(w) - 48 for w in words[1:-1]])\n",
        "\n",
        "        LE = LabelEncoder()\n",
        "        labels = LE.fit_transform(labels)\n",
        "        x_req = torch.Tensor(x)\n",
        "        # ic(x.shape)\n",
        "        x = pd.DataFrame.from_records(x)\n",
        "        \n",
        "        return nodes, labels, LE, x_req, x\n",
        "\n",
        "    def getLabels(self, LE, data):\n",
        "        return LE.inverse_transform(data)\n",
        "\n",
        "    def readCites(self, data):\n",
        "        edges = []\n",
        "        for d in data:\n",
        "            words = d.split(\"\\t\")\n",
        "            edges.append([\n",
        "                words[0].strip(),\n",
        "                words[1].strip()\n",
        "            ])\n",
        "        return edges\n",
        "\n",
        "    def splitDataCount(self, data, labels):\n",
        "        lcounter = dict((l, 0) for l in labels)\n",
        "        indices = []\n",
        "        for i in range(len(labels)):\n",
        "            label = labels[i]\n",
        "            if lcounter[label] < CONFIG['LIMIT']:\n",
        "                indices.append(i)\n",
        "                lcounter[label] += 1\n",
        "        rest = [x for x in range(len(labels)) if x not in indices]\n",
        "        rest = torch.LongTensor(rest)\n",
        "        indices = torch.LongTensor(indices)\n",
        "        return rest, indices\n",
        "\n",
        "    def normalizeMatrix(self, A):\n",
        "        return scipy.sparse.diags(np.array(A.sum(1)).flatten() ** -1).dot(A)\n",
        "\n",
        "    def toTensor(self, A):\n",
        "        A = A.tocoo()\n",
        "        i = torch.tensor(np.vstack((A.row, A.col)), dtype=torch.long)\n",
        "        v = torch.tensor(A.data, dtype=torch.float)\n",
        "        return torch.sparse_coo_tensor(i, v, torch.Size(A.shape))\n",
        "\n",
        "    def buildGraph(self):\n",
        "        nodes, edges = self.getGraph()\n",
        "        G = nx.Graph()\n",
        "        G.add_nodes_from(nodes)\n",
        "        G.add_edges_from(edges)\n",
        "        A = nx.adjacency_matrix(G)\n",
        "        I = scipy.sparse.identity(A.shape[0])\n",
        "        A = A + I\n",
        "        A = self.normalizeMatrix(A)\n",
        "        A = self.toTensor(A)\n",
        "        A = A.to_dense()\n",
        "        ic(A.shape)\n",
        "        ic(nx.info(G))\n",
        "        return A, G\n",
        "\n",
        "    def getIndices(self):\n",
        "        return self.train, self.test\n",
        "\n",
        "    def getGraph(self):\n",
        "        return self.nodes, self.edges\n",
        "\n",
        "    def getMatrix(self):\n",
        "        return self.A\n",
        "\n",
        "    def getXY(self):\n",
        "        return self.x, torch.LongTensor(self.labels)\n",
        "\n",
        "    def printData(self):\n",
        "        print(f\"Number of nodes: {len(self.nodes)}\")\n",
        "        print(f\"Number of features per node: {len(self.x[0])}\")\n",
        "        print(f\"Categories: {set(self.labels)}\")\n",
        "\n",
        "    def handle(self):\n",
        "        data = self.readFile(self.path + '/cora.content')\n",
        "        e_data = self.readFile(self.path + '/cora.cites')\n",
        "        self.nodes, self.labels, self.LE, self.x, self.x_req = self.readContent(data)\n",
        "        self.edges = self.readCites(e_data)\n",
        "        self.test, self.train = self.splitDataCount(self.x_req, self.labels)\n",
        "        self.A, self.G = self.buildGraph()"
      ],
      "metadata": {
        "id": "67-_DaelwEf7"
      },
      "execution_count": 6,
      "outputs": []
    },
    {
      "cell_type": "code",
      "source": [
        "class MyGATLayer(nn.Module):\n",
        "    def __init__(self, in_channels, out_channels):\n",
        "        \"\"\"\n",
        "        in_channels: #features in the input\n",
        "        out_channels: #features in the output\n",
        "        these layers have their *own* independent weights and biases\n",
        "        \"\"\"\n",
        "        super().__init__()\n",
        "        self.out_channels = out_channels\n",
        "        \n",
        "        # W = FxH\n",
        "        self.W = nn.Parameter(torch.empty(in_channels, out_channels))\n",
        "        nn.init.xavier_uniform_(self.W, gain=1.414)\n",
        "\n",
        "        # a = 2Hx1 (So its essentially concating features of 2 nodes)\n",
        "        # Note: torch.empty does random assignments of value\n",
        "        self.a = nn.Parameter(torch.empty(size=(2*out_channels, 1)))\n",
        "        nn.init.xavier_uniform_(self.a, gain=1.414)\n",
        "\n",
        "        self.leaky = nn.LeakyReLU()\n",
        "        self.attention = None\n",
        "\n",
        "    def forward(self, X, A):\n",
        "        \"\"\"\n",
        "        does the neat math on *symmetrically normalized* A\n",
        "        \"\"\"\n",
        "\n",
        "        # Normal feature calculation, Wh = NxH\n",
        "        wh = torch.mm(X, self.W)\n",
        "\n",
        "        # wh = NxH, a = 2Hx1, halfA = Hx1\n",
        "        # both half = NxH * Hx1 = Nx1\n",
        "        first_half = wh@self.a[self.out_channels:, :]\n",
        "        second_half = wh@self.a[:self.out_channels, :]\n",
        "\n",
        "        # Attention matrix formed by combining both halfs\n",
        "        after = second_half + first_half.T\n",
        "        after = self.leaky(after)\n",
        "\n",
        "        # Combining adj matrix and attention matrix\n",
        "        # Attention should only be a number if connection between nodes exist\n",
        "        zmat = -1e17*torch.ones_like(after)\n",
        "        attention = torch.where(A>0, after, zmat)\n",
        "        attention = F.softmax(attention, dim=1)\n",
        "\n",
        "        # Multiplication of features with attention\n",
        "        hprime = torch.matmul(attention, wh)\n",
        "\n",
        "        # storing for visualisation reasons\n",
        "        self.attention = attention\n",
        "\n",
        "        return F.elu(hprime)"
      ],
      "metadata": {
        "id": "a6zUpv6uwI8F"
      },
      "execution_count": 7,
      "outputs": []
    },
    {
      "cell_type": "code",
      "source": [
        "class MyGAT(nn.Module):\n",
        "    def __init__(\n",
        "            self, \n",
        "            in_channels, \n",
        "            hidden_channels, \n",
        "            num_layers, \n",
        "            out_channels, \n",
        "            dropout_rate,\n",
        "            attention_channels,\n",
        "        ):\n",
        "        super().__init__()\n",
        "        self.in_channels = in_channels\n",
        "        self.hidden_channels = hidden_channels\n",
        "        self.num_layers = num_layers\n",
        "        self.out_channels = out_channels\n",
        "        self.dropout_rate = dropout_rate\n",
        "        \n",
        "        self.MyGATLayers = []\n",
        "        self.MyGATLayers.append(\n",
        "            MyGATLayer(self.in_channels, self.hidden_channels)\n",
        "        )\n",
        "        self.outputLayers = MyGATLayer(self.hidden_channels, self.out_channels)\n",
        "\n",
        "        for _ in range(1, self.num_layers):\n",
        "            self.MyGATLayers.append(\n",
        "                MyGATLayer(self.hidden_channels, self.hidden_channels)\n",
        "            )\n",
        "\n",
        "    def sdMul(self, X, Y):\n",
        "        i = X._indices()\n",
        "        v = X._values()\n",
        "        dv = Y[i[0,:], i[1,:]]\n",
        "        return torch.sparse.FloatTensor(i, v*dv, X.size())\n",
        "\n",
        "    def get_attention_matrices(self, yeet=False):\n",
        "        attention_matrices = [\n",
        "            layer.attention.detach().numpy() for layer in self.MyGATLayers\n",
        "        ]\n",
        "        if yeet: return attention_matrices\n",
        "        \n",
        "        I = np.eye(attention_matrices[0].shape[0], attention_matrices[0].shape[1])\n",
        "\n",
        "        return [\n",
        "            np.subtract(matrix, I) for matrix in attention_matrices\n",
        "        ]\n",
        "    \n",
        "    def forward(self, X, A):\n",
        "        \"\"\"\n",
        "        math done on *symmetrically normalized* A\n",
        "        \"\"\"\n",
        "        for layer in self.MyGATLayers:\n",
        "            X = layer.forward(X, A)\n",
        "        X = F.relu(X)\n",
        "        X = F.dropout(X, p=self.dropout_rate, training=self.training)\n",
        "        X = self.outputLayers.forward(X, A)\n",
        "        return F.log_softmax(X)"
      ],
      "metadata": {
        "id": "Kji1deARwL7b"
      },
      "execution_count": 8,
      "outputs": []
    },
    {
      "cell_type": "code",
      "source": [
        "dataset = Data(CONFIG['PATH'])\n",
        "dataset.handle()\n",
        "X, y = dataset.getXY()\n",
        "train, test = dataset.getIndices()\n",
        "A = dataset.getMatrix()\n",
        "ic(X.shape, y.shape)\n",
        "ic(train.shape, test.shape)"
      ],
      "metadata": {
        "colab": {
          "base_uri": "https://localhost:8080/"
        },
        "id": "C7jPO7RUwOBd",
        "outputId": "f7cfefa9-70fd-44df-8a1d-a4d21642fc3b"
      },
      "execution_count": 9,
      "outputs": [
        {
          "output_type": "stream",
          "name": "stderr",
          "text": [
            "ic| A.shape: torch.Size([2708, 2708])\n",
            "ic| nx.info(G): 'Graph with 2708 nodes and 5278 edges'\n",
            "ic| X.shape: torch.Size([2708, 1433]), y.shape: torch.Size([2708])\n",
            "ic| train.shape: torch.Size([1647]), test.shape: torch.Size([1061])\n"
          ]
        },
        {
          "output_type": "execute_result",
          "data": {
            "text/plain": [
              "(torch.Size([1647]), torch.Size([1061]))"
            ]
          },
          "metadata": {},
          "execution_count": 9
        }
      ]
    },
    {
      "cell_type": "code",
      "source": [
        "print(f\"frequency map: {Counter(y.numpy())}\")"
      ],
      "metadata": {
        "colab": {
          "base_uri": "https://localhost:8080/"
        },
        "id": "IpYp29nCwQfO",
        "outputId": "f50b7a82-df28-449f-d085-42b34c92bdb2"
      },
      "execution_count": 10,
      "outputs": [
        {
          "output_type": "stream",
          "name": "stdout",
          "text": [
            "frequency map: Counter({2: 818, 3: 426, 1: 418, 6: 351, 0: 298, 4: 217, 5: 180})\n"
          ]
        }
      ]
    },
    {
      "cell_type": "code",
      "source": [
        "model = MyGAT(\n",
        "    in_channels=X.shape[1],\n",
        "    hidden_channels=CONFIG['HIDDEN_CHANNELS'],\n",
        "    num_layers=CONFIG['NUM_LAYERS'],\n",
        "    out_channels=7,\n",
        "    dropout_rate=CONFIG['DROPOUT_RATE'],\n",
        "    attention_channels=A.shape[1]\n",
        ")\n",
        "\n",
        "loss = nn.NLLLoss()\n",
        "optimizer = optim.Adam(model.parameters())"
      ],
      "metadata": {
        "id": "5RSpAkU5wXZ8"
      },
      "execution_count": 11,
      "outputs": []
    },
    {
      "cell_type": "code",
      "source": [
        "losses = []\n",
        "for _ in tqdm(range(CONFIG['EPOCHS'])):\n",
        "    optimizer.zero_grad()\n",
        "    output = model.forward(X, A)\n",
        "    train_x = torch.index_select(output, 0, train)\n",
        "    train_y = torch.index_select(y, 0, train)\n",
        "    l = loss(train_x, train_y)\n",
        "    l.backward()\n",
        "    losses.append(l.item())\n",
        "    optimizer.step()"
      ],
      "metadata": {
        "colab": {
          "base_uri": "https://localhost:8080/",
          "height": 66,
          "referenced_widgets": [
            "834cdcac79894a7f82361f80830e8208",
            "3f5c480164984f4c8f0169a37a1308d4",
            "06c0532d8a8f47cfbf1a154a773c09c7",
            "752bccc489b74901bb49dae96f612dd9",
            "ef003310f65c4ca38f1a28f889a7e5ea",
            "25ba2c74c3884103854db2825d0c6d6c",
            "fafb7e3e736b42aa8f6586a9374838e0",
            "7341445bd7ba45c082fc2f453b6a2a01",
            "5b0ceda0f4c44f9ebc0cb180f7aa2bee",
            "c4eb5720ce1347b9b5e46bc95f1f9dc7",
            "7066c7d0aca44aa28912b2a197a99b40"
          ]
        },
        "id": "XPKyr7NwwY5Y",
        "outputId": "91bbcf47-0dee-403c-b000-2b6cd71cc6ac"
      },
      "execution_count": 12,
      "outputs": [
        {
          "output_type": "display_data",
          "data": {
            "text/plain": [
              "  0%|          | 0/200 [00:00<?, ?it/s]"
            ],
            "application/vnd.jupyter.widget-view+json": {
              "version_major": 2,
              "version_minor": 0,
              "model_id": "834cdcac79894a7f82361f80830e8208"
            }
          },
          "metadata": {}
        },
        {
          "output_type": "stream",
          "name": "stderr",
          "text": [
            "/usr/local/lib/python3.7/dist-packages/ipykernel_launcher.py:56: UserWarning: Implicit dimension choice for log_softmax has been deprecated. Change the call to include dim=X as an argument.\n"
          ]
        }
      ]
    },
    {
      "cell_type": "code",
      "source": [
        "plt.figure(figsize=(16,8))\n",
        "plt.plot(losses)\n",
        "plt.grid(alpha=0.5)\n",
        "plt.show()"
      ],
      "metadata": {
        "colab": {
          "base_uri": "https://localhost:8080/",
          "height": 483
        },
        "id": "rG-9qB9-wbNR",
        "outputId": "4a94e976-e24d-4f81-ed84-6cc490b3430a"
      },
      "execution_count": 15,
      "outputs": [
        {
          "output_type": "display_data",
          "data": {
            "text/plain": [
              "<Figure size 1152x576 with 1 Axes>"
            ],
            "image/png": "[encoded data removed]"
          },
          "metadata": {
            "needs_background": "light"
          }
        }
      ]
    },
    {
      "cell_type": "code",
      "source": [
        "output = model.forward(X, A)\n",
        "test_x = torch.index_select(output, 0, test)\n",
        "test_y = torch.index_select(y, 0, test)"
      ],
      "metadata": {
        "colab": {
          "base_uri": "https://localhost:8080/"
        },
        "id": "sqz4sRgNyVSd",
        "outputId": "8c94cb87-f44e-438a-9ee9-022d8233131d"
      },
      "execution_count": 16,
      "outputs": [
        {
          "output_type": "stream",
          "name": "stderr",
          "text": [
            "/usr/local/lib/python3.7/dist-packages/ipykernel_launcher.py:56: UserWarning: Implicit dimension choice for log_softmax has been deprecated. Change the call to include dim=X as an argument.\n"
          ]
        }
      ]
    },
    {
      "cell_type": "code",
      "source": [
        "predictions = torch.argmax(test_x, dim=1)"
      ],
      "metadata": {
        "id": "2cQKwkY9yenK"
      },
      "execution_count": 17,
      "outputs": []
    },
    {
      "cell_type": "code",
      "source": [
        "predictions, test_y = predictions.numpy(), test_y.numpy()"
      ],
      "metadata": {
        "id": "ggSGsmHzyf-b"
      },
      "execution_count": 18,
      "outputs": []
    },
    {
      "cell_type": "code",
      "source": [
        "acc = 0\n",
        "for i in range(len(test_y)):\n",
        "    if predictions[i] == test_y[i]:\n",
        "        acc += 1\n",
        "ic(acc/len(test_y)*100)"
      ],
      "metadata": {
        "colab": {
          "base_uri": "https://localhost:8080/"
        },
        "id": "o1y8uujMyhcy",
        "outputId": "a8ce3d3f-9203-4f81-c78b-57b8a8c993bd"
      },
      "execution_count": 19,
      "outputs": [
        {
          "output_type": "stream",
          "name": "stderr",
          "text": [
            "ic| acc/len(test_y)*100: 81.14985862393968\n"
          ]
        },
        {
          "output_type": "execute_result",
          "data": {
            "text/plain": [
              "81.14985862393968"
            ]
          },
          "metadata": {},
          "execution_count": 19
        }
      ]
    },
    {
      "cell_type": "code",
      "source": [
        ""
      ],
      "metadata": {
        "id": "R9bq2y0UyiiX"
      },
      "execution_count": null,
      "outputs": []
    }
  ]
}